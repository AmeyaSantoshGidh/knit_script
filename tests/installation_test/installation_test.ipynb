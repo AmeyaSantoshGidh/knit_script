{
 "cells": [
  {
   "cell_type": "markdown",
   "source": [
    "# Knit Script Installation Test and Walkthorugh\n",
    "\n",
    "Start by creating a knit_script program or \".ks\" file. \n",
    "\n",
    "Knit script can be run from python strings such as:"
   ],
   "metadata": {
    "collapsed": false
   },
   "id": "73760c187a76f0a"
  },
  {
   "cell_type": "code",
   "execution_count": 1,
   "outputs": [],
   "source": [
    "program = r\"\"\"\n",
    "import cast_ons;\n",
    "import stockinette;\n",
    "\n",
    "with Carrier as 1, width as 4, height as 4:{\n",
    "    cast_ons.alt_tuck_cast_on(width);\n",
    "    stockinette.stst(height);                \n",
    "}\n",
    "        \"\"\"\n",
    "with open(\"program.ks\", mode='w') as file:\n",
    "\tfile.write(program)"
   ],
   "metadata": {
    "collapsed": false,
    "ExecuteTime": {
     "end_time": "2023-09-28T17:24:41.293320700Z",
     "start_time": "2023-09-28T17:24:41.222311700Z"
    }
   },
   "id": "8bc066c55986d94b"
  },
  {
   "cell_type": "markdown",
   "source": [
    "## Run KnitScript from String\n",
    "This program can then be interpreted into knitout instructions by running the following"
   ],
   "metadata": {
    "collapsed": false
   },
   "id": "8421e164efab664d"
  },
  {
   "cell_type": "code",
   "execution_count": 2,
   "outputs": [
    {
     "name": "stdout",
     "output_type": "stream",
     "text": [
      "\n",
      "###################Start Knit Script Interpreter ###################\n",
      "\n",
      "KS: Cast on 4loops from 1to 5\n"
     ]
    },
    {
     "data": {
      "text/plain": "<knit_script.knit_graphs.Knit_Graph.Knit_Graph at 0x25338118b50>"
     },
     "metadata": {},
     "output_type": "display_data"
    }
   ],
   "source": [
    "from knit_script.interpret import knit_script_to_knitout\n",
    "\n",
    "knit_graph = knit_script_to_knitout(program, \"installation.k\", pattern_is_filename=False)\n",
    "display(knit_graph)"
   ],
   "metadata": {
    "collapsed": false,
    "ExecuteTime": {
     "end_time": "2023-09-28T17:24:42.463804300Z",
     "start_time": "2023-09-28T17:24:41.233349700Z"
    }
   },
   "id": "bfcb6c08dd274423"
  },
  {
   "cell_type": "markdown",
   "source": [
    "This will generate a \"program.k\" file which in this case reads:"
   ],
   "metadata": {
    "collapsed": false
   },
   "id": "2b53231c70a56cc3"
  },
  {
   "cell_type": "code",
   "execution_count": 3,
   "outputs": [
    {
     "name": "stdout",
     "output_type": "stream",
     "text": [
      ";!knitout-2\n",
      ";;Carriers: 1 2 3 4 5 6 7 8 9 10\n",
      ";;Machine: SWG091N2\n",
      ";;Gauge: 15\n",
      ";;Width: 250\n",
      ";;Position: Center\n",
      "inhook 1;Activating carrier 1\n",
      "tuck - f2 1\n",
      "tuck - f0 1\n",
      "tuck + f1 1\n",
      "tuck + f3 1\n",
      "releasehook 1\n",
      "tuck - f3 1\n",
      "tuck - f1 1\n",
      "tuck + f0 1\n",
      "tuck + f2 1\n",
      "knit - f3 1\n",
      "knit - f2 1\n",
      "knit - f1 1\n",
      "knit - f0 1\n",
      "knit + f0 1\n",
      "knit + f1 1\n",
      "knit + f2 1\n",
      "knit + f3 1\n",
      "knit - f3 1\n",
      "knit - f2 1\n",
      "knit - f1 1\n",
      "knit - f0 1\n",
      "knit + f0 1\n",
      "knit + f1 1\n",
      "knit + f2 1\n",
      "knit + f3 1\n",
      "knit - f3 1\n",
      "knit - f2 1\n",
      "knit - f1 1\n",
      "knit - f0 1\n",
      "knit + f0 1\n",
      "knit + f1 1\n",
      "knit + f2 1\n",
      "knit + f3 1\n",
      "knit - f3 1\n",
      "knit - f2 1\n",
      "knit - f1 1\n",
      "knit - f0 1\n",
      "knit + f0 1\n",
      "knit + f1 1\n",
      "knit + f2 1\n",
      "knit + f3 1\n",
      "outhook 1;Cutting all active yarns\n"
     ]
    }
   ],
   "source": [
    "def print_knitout(filename: str):\n",
    "\twith open( filename, mode='r') as knitout_file:\n",
    "\t\tprint_str = \"\"\n",
    "\t\tfor line in knitout_file.readlines():\n",
    "\t\t\tprint_str += line\n",
    "\t\tprint(print_str)\n",
    "\n",
    "print_knitout(\"program.k\")"
   ],
   "metadata": {
    "collapsed": false,
    "ExecuteTime": {
     "end_time": "2023-09-28T17:24:42.471617300Z",
     "start_time": "2023-09-28T17:24:42.463804300Z"
    }
   },
   "id": "da3fef8fb9f07323"
  },
  {
   "cell_type": "markdown",
   "source": [
    "It also creates a KnitGraph object which you can visualize:"
   ],
   "metadata": {
    "collapsed": false
   },
   "id": "bbc8b27145c7dc17"
  },
  {
   "cell_type": "code",
   "execution_count": 4,
   "outputs": [
    {
     "ename": "KeyError",
     "evalue": "4",
     "output_type": "error",
     "traceback": [
      "\u001B[1;31m---------------------------------------------------------------------------\u001B[0m",
      "\u001B[1;31mKeyError\u001B[0m                                  Traceback (most recent call last)",
      "Cell \u001B[1;32mIn[4], line 3\u001B[0m\n\u001B[0;32m      1\u001B[0m \u001B[38;5;28;01mfrom\u001B[39;00m \u001B[38;5;21;01mknit_script\u001B[39;00m\u001B[38;5;21;01m.\u001B[39;00m\u001B[38;5;21;01mknit_graphs\u001B[39;00m\u001B[38;5;21;01m.\u001B[39;00m\u001B[38;5;21;01mknit_graph_viz\u001B[39;00m \u001B[38;5;28;01mimport\u001B[39;00m visualize_sheet\n\u001B[1;32m----> 3\u001B[0m \u001B[43mvisualize_sheet\u001B[49m\u001B[43m(\u001B[49m\u001B[43mknit_graph\u001B[49m\u001B[43m,\u001B[49m\u001B[43m \u001B[49m\u001B[38;5;124;43m\"\u001B[39;49m\u001B[38;5;124;43mprogram_knit_graph.png\u001B[39;49m\u001B[38;5;124;43m\"\u001B[39;49m\u001B[43m)\u001B[49m\n",
      "File \u001B[1;32m~\\Documents\\knit_script\\knit_script\\knit_graphs\\knit_graph_viz.py:58\u001B[0m, in \u001B[0;36mvisualize_sheet\u001B[1;34m(knit_graph, file_name, start_course)\u001B[0m\n\u001B[0;32m     56\u001B[0m     \u001B[38;5;28;01melse\u001B[39;00m:\n\u001B[0;32m     57\u001B[0m         placement_loop \u001B[38;5;241m=\u001B[39m dominant_parent\n\u001B[1;32m---> 58\u001B[0m     x \u001B[38;5;241m=\u001B[39m \u001B[43mloop_id_to_x_position\u001B[49m\u001B[43m[\u001B[49m\u001B[43mplacement_loop\u001B[49m\u001B[43m]\u001B[49m  \u001B[38;5;66;03m# pulled to last parent on stack\u001B[39;00m\n\u001B[0;32m     59\u001B[0m \u001B[38;5;28;01melse\u001B[39;00m:  \u001B[38;5;66;03m# yarn_overs\u001B[39;00m\n\u001B[0;32m     60\u001B[0m     x \u001B[38;5;241m=\u001B[39m \u001B[38;5;28;01mNone\u001B[39;00m\n",
      "\u001B[1;31mKeyError\u001B[0m: 4"
     ]
    }
   ],
   "source": [
    "from knit_script.knit_graphs.knit_graph_viz import visualize_sheet\n",
    "\n",
    "visualize_sheet(knit_graph, \"program_knit_graph.png\")"
   ],
   "metadata": {
    "collapsed": false,
    "ExecuteTime": {
     "end_time": "2023-09-28T17:24:43.505099Z",
     "start_time": "2023-09-28T17:24:42.471617300Z"
    }
   },
   "id": "5429ad159c03af82"
  },
  {
   "cell_type": "markdown",
   "source": [
    "\n",
    "## Run KnitScript from file\n",
    "You can also run knitout from separate files usually with a `.ks` extenstion, like so:"
   ],
   "metadata": {
    "collapsed": false
   },
   "id": "fe84f66bee48be34"
  },
  {
   "cell_type": "code",
   "execution_count": 8,
   "outputs": [
    {
     "name": "stdout",
     "output_type": "stream",
     "text": [
      "\n",
      "###################Start Knit Script Interpreter on installation_test.ks###################\n",
      "\n",
      "KS: Cast on 6loops from 1to 7\n",
      ";!knitout-2\n",
      ";;Carriers: 1 2 3 4 5 6 7 8 9 10\n",
      ";;Machine: SWG091N2\n",
      ";;Gauge: 15\n",
      ";;Width: 250\n",
      ";;Position: Center\n",
      "inhook 1;Activating carrier 1\n",
      "tuck - f4 1\n",
      "tuck - f2 1\n",
      "tuck + f3 1\n",
      "tuck + f5 1\n",
      "releasehook 1\n",
      "tuck - f5 1\n",
      "tuck - f3 1\n",
      "tuck - f1 1\n",
      "tuck + f0 1\n",
      "tuck + f2 1\n",
      "tuck + f4 1\n",
      "knit - f5 1\n",
      "knit - f4 1\n",
      "knit - f3 1\n",
      "knit - f2 1\n",
      "knit - f1 1\n",
      "knit - f0 1\n",
      "knit + f0 1\n",
      "knit + f1 1\n",
      "knit + f2 1\n",
      "knit + f3 1\n",
      "knit + f4 1\n",
      "knit + f5 1\n",
      "knit - f5 1\n",
      "knit - f4 1\n",
      "knit - f3 1\n",
      "knit - f2 1\n",
      "knit - f1 1\n",
      "knit - f0 1\n",
      "knit + f0 1\n",
      "knit + f1 1\n",
      "knit + f2 1\n",
      "knit + f3 1\n",
      "knit + f4 1\n",
      "knit + f5 1\n",
      "knit - f5 1\n",
      "knit - f4 1\n",
      "knit - f3 1\n",
      "knit - f2 1\n",
      "knit - f1 1\n",
      "knit - f0 1\n",
      "knit + f0 1\n",
      "knit + f1 1\n",
      "knit + f2 1\n",
      "knit + f3 1\n",
      "knit + f4 1\n",
      "knit + f5 1\n",
      "knit - f5 1\n",
      "knit - f4 1\n",
      "knit - f3 1\n",
      "knit - f2 1\n",
      "knit - f1 1\n",
      "knit - f0 1\n",
      "knit + f0 1\n",
      "knit + f1 1\n",
      "knit + f2 1\n",
      "knit + f3 1\n",
      "knit + f4 1\n",
      "knit + f5 1\n",
      "outhook 1;Cutting all active yarns\n"
     ]
    }
   ],
   "source": [
    "knit_graph = knit_script_to_knitout(\"installation_test.ks\", \"program_from_file.k\", pattern_is_filename=True)\n",
    "\n",
    "print_knitout(\"program_from_file.k\")"
   ],
   "metadata": {
    "collapsed": false,
    "ExecuteTime": {
     "end_time": "2023-09-28T17:31:43.134242100Z",
     "start_time": "2023-09-28T17:31:42.926408100Z"
    }
   },
   "id": "1ee970452ae3bbd1"
  },
  {
   "cell_type": "markdown",
   "source": [
    "# Getting Machine Files for Shima Seiki\n",
    "If you want to run this knitout on a Shima Seiki machine, you will need to create a DAT file using the DAT compiler. This looks similar to the above calls:"
   ],
   "metadata": {
    "collapsed": false
   },
   "id": "dfa1e4ab3663785d"
  },
  {
   "cell_type": "code",
   "execution_count": 6,
   "outputs": [
    {
     "name": "stdout",
     "output_type": "stream",
     "text": [
      "\n",
      "###################Start Knit Script Interpreter on program.ks###################\n",
      "\n",
      "KS: Cast on 4loops from 1to 5\n",
      "\n",
      "################Converting program_for_dat.k to DAT file program.dat ########\n"
     ]
    },
    {
     "data": {
      "text/plain": "<knit_script.knit_graphs.Knit_Graph.Knit_Graph at 0x25350b9d610>"
     },
     "execution_count": 6,
     "metadata": {},
     "output_type": "execute_result"
    }
   ],
   "source": [
    "from knit_script.interpret import knit_script_to_knitout_to_dat\n",
    "\n",
    "knit_script_to_knitout_to_dat(\"program.ks\", \"program_for_dat.k\",\"program.dat\", pattern_is_filename=True)"
   ],
   "metadata": {
    "collapsed": false,
    "ExecuteTime": {
     "end_time": "2023-09-28T17:27:45.300638400Z",
     "start_time": "2023-09-28T17:27:44.909380200Z"
    }
   },
   "id": "6b674b3f345dbfa3"
  },
  {
   "cell_type": "markdown",
   "source": [
    "To view this DAT file you can load it into the HTMl interface from [Dat Viewer](../knit_script/knitout_compilers/dat-viewer.html)."
   ],
   "metadata": {
    "collapsed": false
   },
   "id": "9654ddc2ab85c415"
  }
 ],
 "metadata": {
  "kernelspec": {
   "display_name": "Python 3",
   "language": "python",
   "name": "python3"
  },
  "language_info": {
   "codemirror_mode": {
    "name": "ipython",
    "version": 2
   },
   "file_extension": ".py",
   "mimetype": "text/x-python",
   "name": "python",
   "nbconvert_exporter": "python",
   "pygments_lexer": "ipython2",
   "version": "2.7.6"
  }
 },
 "nbformat": 4,
 "nbformat_minor": 5
}
